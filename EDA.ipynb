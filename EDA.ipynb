{
 "cells": [
  {
   "cell_type": "code",
   "execution_count": 1,
   "id": "8dba9fad-5820-46ad-895c-8207fecafc48",
   "metadata": {},
   "outputs": [],
   "source": [
    "import numpy as np\n",
    "import seaborn as sns\n",
    "import matplotlib.pyplot as plt"
   ]
  },
  {
   "cell_type": "code",
   "execution_count": 2,
   "id": "3eb6382f-0f82-4b9d-a663-5147c7016a94",
   "metadata": {},
   "outputs": [],
   "source": [
    "import pandas as pd"
   ]
  },
  {
   "cell_type": "code",
   "execution_count": 3,
   "id": "e4b71cb6-31ba-4db0-9639-d530bdd1d79b",
   "metadata": {},
   "outputs": [],
   "source": [
    "df=pd.read_csv(\"US_Accidents_March23.csv\")"
   ]
  },
  {
   "cell_type": "code",
   "execution_count": null,
   "id": "8b97d402-caef-47d4-8d5a-90026750e1c8",
   "metadata": {},
   "outputs": [],
   "source": [
    "df.head()"
   ]
  },
  {
   "cell_type": "code",
   "execution_count": null,
   "id": "2851cbb6-52dc-44b9-a45d-f11b8804f2e4",
   "metadata": {},
   "outputs": [],
   "source": [
    "df.describe()"
   ]
  },
  {
   "cell_type": "code",
   "execution_count": null,
   "id": "ac77ad23-e479-4519-9faa-35224fc98e42",
   "metadata": {},
   "outputs": [],
   "source": [
    "#How many number of columns having numeric data?\n",
    "numerics = ['int16', 'int32', 'int64', 'float16', 'float32', 'float64']\n",
    "\n",
    "numeric_df = df.select_dtypes(include=numerics)\n",
    "len(numeric_df.columns)"
   ]
  },
  {
   "cell_type": "code",
   "execution_count": null,
   "id": "3c1a910b-9b3f-4202-8f87-1811817afc53",
   "metadata": {},
   "outputs": [],
   "source": [
    "#Percentage of missing values per column.\n",
    "missing_percentages = df.isna().sum().sort_values(ascending=False) / len(df)\n",
    "missing_percentages"
   ]
  },
  {
   "cell_type": "code",
   "execution_count": null,
   "id": "121f8bc4-0585-4e57-b2d1-d30a409a50bc",
   "metadata": {},
   "outputs": [],
   "source": [
    "#count of unique cities City\n",
    "cities = df.City.unique()\n",
    "len(cities)"
   ]
  },
  {
   "cell_type": "code",
   "execution_count": null,
   "id": "428c392c-b964-4f1f-8655-577194c3df94",
   "metadata": {},
   "outputs": [],
   "source": [
    "cities_by_accident = df.City.value_counts()\n",
    "cities_by_accident"
   ]
  },
  {
   "cell_type": "code",
   "execution_count": null,
   "id": "e811ae57-a011-4e0a-aa42-b1124b50f66d",
   "metadata": {},
   "outputs": [],
   "source": [
    "# plot of cities by accident \n",
    "cities_by_accident[:20].plot(kind='barh')"
   ]
  },
  {
   "cell_type": "code",
   "execution_count": null,
   "id": "63634791-d253-4950-8c99-bed13b644e9a",
   "metadata": {},
   "outputs": [],
   "source": [
    " accidents_in_new_york = len(df[df['City'] == 'New York'])\n",
    "\n",
    "# Print the result\n",
    "print(f\"Number of accidents in New York City: {accidents_in_new_york}\")"
   ]
  },
  {
   "cell_type": "code",
   "execution_count": null,
   "id": "f951574e-5113-4385-893f-0a079244c6d2",
   "metadata": {},
   "outputs": [],
   "source": [
    "high_accident_cities = cities_by_accident[cities_by_accident >= 10000]\n",
    "low_accident_cities = cities_by_accident[cities_by_accident<10000]"
   ]
  },
  {
   "cell_type": "code",
   "execution_count": null,
   "id": "a2ddb6c9-eb88-43b3-9551-826cc5f1ea38",
   "metadata": {},
   "outputs": [],
   "source": [
    "len(high_accident_cities) / len(cities)"
   ]
  },
  {
   "cell_type": "code",
   "execution_count": null,
   "id": "49788021-0af7-43ca-b82e-539b70a2b2a9",
   "metadata": {},
   "outputs": [],
   "source": [
    "import seaborn as sns\n",
    "sns.set_style(\"darkgrid\")"
   ]
  },
  {
   "cell_type": "code",
   "execution_count": null,
   "id": "01b65514-752f-42d5-91e6-43c79be41a11",
   "metadata": {},
   "outputs": [],
   "source": [
    "sns.histplot(cities_by_accident, log_scale=True)"
   ]
  },
  {
   "cell_type": "code",
   "execution_count": null,
   "id": "ba826fdb-7437-4622-8e41-72332c71d536",
   "metadata": {},
   "outputs": [],
   "source": [
    "len(df.State.unique())"
   ]
  },
  {
   "cell_type": "code",
   "execution_count": null,
   "id": "45d2f702-7e3c-4718-b2f8-886099a100e3",
   "metadata": {},
   "outputs": [],
   "source": [
    "df.State.unique()"
   ]
  },
  {
   "cell_type": "code",
   "execution_count": null,
   "id": "478009c2-3066-4b24-bef8-b082d013b386",
   "metadata": {},
   "outputs": [],
   "source": [
    "df.Start_Time"
   ]
  },
  {
   "cell_type": "code",
   "execution_count": null,
   "id": "6e80fffa-e65f-409d-9822-d3a835f07c14",
   "metadata": {},
   "outputs": [],
   "source": [
    "df.Start_Time[0]"
   ]
  },
  {
   "cell_type": "code",
   "execution_count": null,
   "id": "799d28e2-629a-4408-933a-79ebd0652afa",
   "metadata": {},
   "outputs": [],
   "source": [
    "Copy_Start_Time = df.Start_Time.copy()"
   ]
  },
  {
   "cell_type": "code",
   "execution_count": null,
   "id": "9e9b93d2-d003-4a53-be31-4289207fdb4a",
   "metadata": {},
   "outputs": [],
   "source": [
    "df['Start_Time'] = df['Start_Time'].str.replace(r'\\.\\d{9}$', '', regex=True)"
   ]
  },
  {
   "cell_type": "code",
   "execution_count": null,
   "id": "98923634-8d93-49fa-b983-ce2f4b72350f",
   "metadata": {},
   "outputs": [],
   "source": [
    "df['Start_Time'] = pd.to_datetime(df['Start_Time'], format='%Y-%m-%d %H:%M:%S', errors='coerce')"
   ]
  },
  {
   "cell_type": "code",
   "execution_count": null,
   "id": "185222dc-d7b0-4b33-a901-cb4e6a82ab4e",
   "metadata": {},
   "outputs": [],
   "source": [
    "df['Start_Time']"
   ]
  },
  {
   "cell_type": "code",
   "execution_count": null,
   "id": "00dd8add-6cab-42f3-a1bb-cf7bd00dcc21",
   "metadata": {},
   "outputs": [],
   "source": [
    "sns.distplot(df.Start_Time.dt.hour, bins=24, kde=False, norm_hist=True)"
   ]
  },
  {
   "cell_type": "code",
   "execution_count": null,
   "id": "df345f5f-e352-4c62-96e7-803fdb54404e",
   "metadata": {},
   "outputs": [],
   "source": [
    "sns.distplot(df.Start_Time.dt.dayofweek, bins=7, kde=False, norm_hist=True)"
   ]
  },
  {
   "cell_type": "code",
   "execution_count": null,
   "id": "631354be-62f3-4f79-8e11-bba51571862b",
   "metadata": {},
   "outputs": [],
   "source": [
    "#Is the distribution of accidents by hour the same on weekends as on #weekdays?\n",
    "\n",
    "sundays_start_time = df.Start_Time[df.Start_Time.dt.dayofweek == 6]\n",
    "sns.distplot(sundays_start_time.dt.hour, bins=24, kde=False, norm_hist=True)"
   ]
  },
  {
   "cell_type": "code",
   "execution_count": null,
   "id": "8adf92db-5505-4ad0-933b-9fb4c1912cc2",
   "metadata": {},
   "outputs": [],
   "source": [
    "mondays_start_time = df.Start_Time[df.Start_Time.dt.dayofweek == 0]\n",
    "sns.distplot(mondays_start_time.dt.hour, bins=24, kde=False, norm_hist=True)"
   ]
  },
  {
   "cell_type": "code",
   "execution_count": null,
   "id": "2b787b38-f5b4-4be7-9d80-25cde7116966",
   "metadata": {},
   "outputs": [],
   "source": [
    "#On Sundays the peek occurs between 10am and 3pm, unlike weekdays.\n",
    "sns.distplot(df.Start_Time.dt.month, bins=12, kde=False, norm_hist=True)"
   ]
  },
  {
   "cell_type": "code",
   "execution_count": null,
   "id": "b7fe75ee-4f74-4778-a631-cd7970b40331",
   "metadata": {},
   "outputs": [],
   "source": [
    "#Accidents more likely to be occur in winters.\n",
    "sns.distplot(df.Start_Time.dt.year, bins=8, kde=False, norm_hist=True)"
   ]
  },
  {
   "cell_type": "markdown",
   "id": "5c388781-d71e-45d2-a935-e7e980073e01",
   "metadata": {},
   "source": [
    "Accidents were increasing from 2016 to 2022, and decreased highly in 2023.\n",
    "\n",
    "Maximum number of accidents occurred in 2021 and 2022, and the minimum number of accidents occurred in 2023."
   ]
  },
  {
   "cell_type": "code",
   "execution_count": null,
   "id": "f6585509-0435-4152-a082-0585b3cd57e3",
   "metadata": {},
   "outputs": [],
   "source": [
    "df.Start_Lat"
   ]
  },
  {
   "cell_type": "code",
   "execution_count": null,
   "id": "f5e8486a-aa0e-4af7-bbbb-a7439b62b82e",
   "metadata": {},
   "outputs": [],
   "source": [
    "df.Start_Lng"
   ]
  },
  {
   "cell_type": "code",
   "execution_count": null,
   "id": "59ebd97a-505b-455d-975b-4ff8004ffe8c",
   "metadata": {},
   "outputs": [],
   "source": [
    "sample_df = df.sample(int(0.1 *len(df)))\n",
    "sns.scatterplot(x=sample_df.Start_Lng, y=sample_df.Start_Lat, size=0.001)"
   ]
  },
  {
   "cell_type": "code",
   "execution_count": null,
   "id": "c08b0551-064d-4deb-80bc-56c9395bfb1a",
   "metadata": {},
   "outputs": [],
   "source": [
    "pip install folium"
   ]
  },
  {
   "cell_type": "code",
   "execution_count": null,
   "id": "457e0bc7-8402-4787-bdde-f04a1da9e9bc",
   "metadata": {},
   "outputs": [],
   "source": [
    "lat, lng = df.Start_Lat[0], df.Start_Lng[0]\n",
    "lat,lng"
   ]
  },
  {
   "cell_type": "code",
   "execution_count": null,
   "id": "0d95ee6a-fb78-4edb-ace9-e22ab2dc46d6",
   "metadata": {},
   "outputs": [],
   "source": [
    "import folium"
   ]
  },
  {
   "cell_type": "code",
   "execution_count": null,
   "id": "e2d3037e-5142-4915-b159-bf2b39b36422",
   "metadata": {},
   "outputs": [],
   "source": [
    "from folium.plugins import HeatMap"
   ]
  },
  {
   "cell_type": "code",
   "execution_count": null,
   "id": "d27bc37a-19dc-4f36-aa19-b24281e01402",
   "metadata": {},
   "outputs": [],
   "source": [
    "sample_df = df.sample(int(0.1 * len(df)))\n",
    "lat_lng_pairs = list(zip(list(sample_df.Start_Lat), list(sample_df.Start_Lng)))"
   ]
  },
  {
   "cell_type": "code",
   "execution_count": null,
   "id": "389ae334-bf26-4eb2-b5c1-48db38c60eef",
   "metadata": {},
   "outputs": [],
   "source": [
    "map = folium.Map()\n",
    "HeatMap(lat_lng_pairs).add_to(map)\n",
    "map"
   ]
  },
  {
   "cell_type": "code",
   "execution_count": null,
   "id": "14ef08db-8693-4397-9d02-027be19322f7",
   "metadata": {},
   "outputs": [],
   "source": [
    "df['Temperature(F)']"
   ]
  },
  {
   "cell_type": "code",
   "execution_count": null,
   "id": "6777c5d0-3f45-421f-8035-70e4f5b49664",
   "metadata": {},
   "outputs": [],
   "source": [
    "sample_df = df.sample(int(0.001 *len(df)))\n",
    "sns.histplot(sample_df['Temperature(F)'])"
   ]
  },
  {
   "cell_type": "code",
   "execution_count": null,
   "id": "4618bec8-afc0-4c81-a4f6-7384f80b47d1",
   "metadata": {},
   "outputs": [],
   "source": [
    "#Weather_Condition\n",
    "weather_by_acc = df['Weather_Condition'].value_counts()\n",
    "weather_by_acc"
   ]
  },
  {
   "cell_type": "code",
   "execution_count": null,
   "id": "c6b36c1d-72bb-45a0-8445-f2156b9e2efd",
   "metadata": {},
   "outputs": [],
   "source": [
    "weather_by_acc[:20].plot(kind='barh')"
   ]
  },
  {
   "cell_type": "raw",
   "id": "3cdfdb87-6da0-4d3a-9a8b-ceafbc2238cc",
   "metadata": {},
   "source": [
    "Are there more accidents in warmer or colder areas?\n",
    "Which 5 states have the highest number of accidents? How about per capita?\n",
    "What time of the day are accidents most frequent in?\n",
    "Which days of the week have the most accidents?\n",
    "Which months have the most accidents?\n",
    "Among the top 100 cities in number of accidents, which states do they belong to most frequently?\n",
    "What is the trend of accidents year over year (decreasing/increasing)?"
   ]
  },
  {
   "cell_type": "raw",
   "id": "8f8bf264-e9f6-4d8d-9278-e991c267906a",
   "metadata": {},
   "source": [
    "Summary and Conclusion\n",
    "Insights\n",
    "It contains data from 49 out of 52 states of USA, The data from the states Alaska(AK) and Hawaii(HI) is missing in this dataset.\n",
    "Less than 1% of cities have more than 10000 yearly accidents.\n",
    "Over 1000 cities have reported just one accident..\n",
    "A high percentage of accidents occur btw 7 am to 9 am and btw 3pm to 6pm.\n",
    "On Sundays the peek occurs between 10am and 3pm, unlike weekdays.\n",
    "Accidents more likely to be occur in winters.\n",
    "Accidents were increasing from 2016 to 2022, and decreases highly in 2023.\n",
    "Maximum number of accidents were occur in 2021 and 2022, and minimum number of accidents occurs in 2023."
   ]
  },
  {
   "cell_type": "code",
   "execution_count": null,
   "id": "98a03eae-3810-4d93-9f28-ed7c74b4c24f",
   "metadata": {},
   "outputs": [],
   "source": []
  }
 ],
 "metadata": {
  "kernelspec": {
   "display_name": "Python 3 (ipykernel)",
   "language": "python",
   "name": "python3"
  },
  "language_info": {
   "codemirror_mode": {
    "name": "ipython",
    "version": 3
   },
   "file_extension": ".py",
   "mimetype": "text/x-python",
   "name": "python",
   "nbconvert_exporter": "python",
   "pygments_lexer": "ipython3",
   "version": "3.11.5"
  }
 },
 "nbformat": 4,
 "nbformat_minor": 5
}
